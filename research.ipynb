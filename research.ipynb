{
 "cells": [
  {
   "cell_type": "markdown",
   "metadata": {},
   "source": [
    "# problem statement:\n",
    "What is the best font to use for my newsletter?\n",
    "\n",
    "\n"
   ]
  },
  {
   "cell_type": "code",
   "execution_count": 18,
   "metadata": {},
   "outputs": [],
   "source": [
    "import requests\n",
    "import pandas\n",
    "from bs4 import BeautifulSoup\n",
    "import re"
   ]
  },
  {
   "cell_type": "code",
   "execution_count": 2,
   "metadata": {},
   "outputs": [
    {
     "data": {
      "text/html": [
       "<div>\n",
       "<style scoped>\n",
       "    .dataframe tbody tr th:only-of-type {\n",
       "        vertical-align: middle;\n",
       "    }\n",
       "\n",
       "    .dataframe tbody tr th {\n",
       "        vertical-align: top;\n",
       "    }\n",
       "\n",
       "    .dataframe thead th {\n",
       "        text-align: right;\n",
       "    }\n",
       "</style>\n",
       "<table border=\"1\" class=\"dataframe\">\n",
       "  <thead>\n",
       "    <tr style=\"text-align: right;\">\n",
       "      <th></th>\n",
       "      <th>company</th>\n",
       "      <th>https://website</th>\n",
       "    </tr>\n",
       "  </thead>\n",
       "  <tbody>\n",
       "    <tr>\n",
       "      <th>0</th>\n",
       "      <td>youtube</td>\n",
       "      <td>https://youtube.com</td>\n",
       "    </tr>\n",
       "    <tr>\n",
       "      <th>1</th>\n",
       "      <td>google</td>\n",
       "      <td>https://google.com</td>\n",
       "    </tr>\n",
       "    <tr>\n",
       "      <th>2</th>\n",
       "      <td>gmail</td>\n",
       "      <td>https://gmail.com</td>\n",
       "    </tr>\n",
       "    <tr>\n",
       "      <th>3</th>\n",
       "      <td>google drive</td>\n",
       "      <td>https://drive.google.com</td>\n",
       "    </tr>\n",
       "    <tr>\n",
       "      <th>4</th>\n",
       "      <td>spotify</td>\n",
       "      <td>https://spotify.com</td>\n",
       "    </tr>\n",
       "  </tbody>\n",
       "</table>\n",
       "</div>"
      ],
      "text/plain": [
       "        company            https://website\n",
       "0       youtube        https://youtube.com\n",
       "1        google         https://google.com\n",
       "2         gmail          https://gmail.com\n",
       "3  google drive   https://drive.google.com\n",
       "4       spotify        https://spotify.com"
      ]
     },
     "execution_count": 2,
     "metadata": {},
     "output_type": "execute_result"
    }
   ],
   "source": [
    "# company_website_pairs = []\n",
    "# with open('tech_websites.csv', newline='') as csvfile:\n",
    "#     tech_websites = csv.reader(csvfile, dialect='excel')\n",
    "#     for row in tech_websites:\n",
    "#         # print(', '.join(row))\n",
    "#         # name, website = row.split(',')\n",
    "#         name, website = row[0], row[1]\n",
    "#         company_website_pairs.append((name, website))\n",
    "# # company_website_pairs\n",
    "\n",
    "df = pandas.read_csv('tech_websites.csv', index_col=False)\n",
    "df.head()"
   ]
  },
  {
   "cell_type": "code",
   "execution_count": 3,
   "metadata": {},
   "outputs": [
    {
     "data": {
      "text/plain": [
       "'SF+Pro,v3|SF+Pro+Icons,v3'"
      ]
     },
     "execution_count": 3,
     "metadata": {},
     "output_type": "execute_result"
    }
   ],
   "source": [
    "# a = df['company'] == 'apple'\n",
    "# df[a]\n",
    "apple_df = df[df['company'] == 'apple']\n",
    "URL = apple_df.iat[0,1] # :(\n",
    "\n",
    "\n",
    "page = requests.get(URL)\n",
    "soup = BeautifulSoup(page.content, \"html.parser\")\n",
    "\n",
    "font_tags = []\n",
    "results = soup.find_all(\"link\")\n",
    "for result in results:\n",
    "    # print(result.prettify())\n",
    "    result_pretty = result.prettify()\n",
    "    if \"font\" in result_pretty:\n",
    "        font_tags.append(result_pretty)\n",
    "\n",
    "# find 'fonts?families=' parse until \"\n",
    "sub = 'fonts?families='\n",
    "families = \"\" \n",
    "for tag in font_tags:\n",
    "    ind = tag.find(sub) + len(sub)\n",
    "\n",
    "    for i in range(ind, len(tag)):\n",
    "        if tag[i] == \"\\\"\":\n",
    "            families = tag[ind:i]\n",
    "            break\n",
    "        else:\n",
    "            i+=1\n",
    "families\n"
   ]
  },
  {
   "cell_type": "code",
   "execution_count": 19,
   "metadata": {},
   "outputs": [
    {
     "name": "stdout",
     "output_type": "stream",
     "text": [
      "font-size: 10px;font-family: Roboto, Arial, sans-serif;\n"
     ]
    }
   ],
   "source": [
    "# download youtube html\n",
    "youtube_df = df[df['company'] == 'youtube']\n",
    "URL = youtube_df.iat[0,1] # :(\n",
    "page = requests.get(URL)\n",
    "soup = BeautifulSoup(page.content, \"html.parser\")\n",
    "# print(soup.prettify())\n",
    "# html_tag = soup.find(\"html\")\n",
    "# print(html_tag)\n",
    "style_string = soup.html['style']\n",
    "print(style_string)\n",
    "\n",
    "# extract font families\n",
    "sub_string = \"font-family:\"\n",
    "families = \"\" \n",
    "index = style_string.find(sub_string)\n",
    "end_index = index + len(sub_string) -1\n",
    "# print(style_string[index])\n",
    "# print(style_string[end_index])\n",
    "sub_string_end = \";\"\n",
    "fam_index = style_string.find(sub_string_end, end_index )\n",
    "# print(fam_index)\n",
    "# print(style_string[fam_index])\n",
    "families = style_string[end_index+1: fam_index]\n",
    "# print(families)\n",
    "# x = re.search(\"^font-family: .*;$\", style_string)\n",
    "# print(x)\n",
    "font_families = families.strip().split(',')\n",
    "print(font_families)"
   ]
  },
  {
   "cell_type": "code",
   "execution_count": 38,
   "metadata": {},
   "outputs": [
    {
     "name": "stdout",
     "output_type": "stream",
     "text": [
      "['Roboto', ' Arial', ' sans-serif']\n",
      "['color: rgb(var(--ig-secondary-background)']\n",
      "------------------------\n",
      "['google', 'gmail', 'google drive', 'spotify', 'twitter', 'microsoft', 'amazon', 'facebook', 'messenger', 'whatsapp', 'twitch', 'tiktok', 'apple', 'app store', 'zoom', 'cash app', 'netflix', 'discord', 'shopify', 'uber', 'paypal']\n"
     ]
    }
   ],
   "source": [
    "bad = []\n",
    "for ind, row in df.iterrows():\n",
    "    # print(row)\n",
    "    company = row[0]\n",
    "    URL = row[1]\n",
    "    page = requests.get(URL)\n",
    "    soup = BeautifulSoup(page.content, \"html.parser\")\n",
    "    try:\n",
    "        style_string = soup.html['style']\n",
    "        # extract font families\n",
    "        sub_string = \"font-family:\"\n",
    "        families = \"\" \n",
    "        index = style_string.find(sub_string)\n",
    "        end_index = index + len(sub_string) -1\n",
    "        sub_string_end = \";\"\n",
    "        fam_index = style_string.find(sub_string_end, end_index )\n",
    "        families = style_string[end_index+1: fam_index]\n",
    "        font_families = families.strip().split(',')\n",
    "        print(font_families)\n",
    "    except:\n",
    "        bad.append(company)\n",
    "print(\"------------------------\")\n",
    "print(bad)"
   ]
  },
  {
   "cell_type": "code",
   "execution_count": null,
   "metadata": {},
   "outputs": [],
   "source": []
  },
  {
   "cell_type": "code",
   "execution_count": 32,
   "metadata": {},
   "outputs": [
    {
     "name": "stdout",
     "output_type": "stream",
     "text": [
      "f\n",
      ":\n",
      "54\n",
      ";\n",
      " Roboto, Arial, sans-serif\n",
      "['Roboto', ' Arial', ' sans-serif']\n"
     ]
    }
   ],
   "source": [
    "# \n",
    "for row in df:\n",
    "    URL = row.iat[0,1] # :(\n",
    "\n",
    "youtube_df = df[df['company'] == 'youtube']\n",
    "URL = youtube_df.iat[0,1] # :(\n",
    "page = requests.get(URL)\n",
    "soup = BeautifulSoup(page.content, \"html.parser\")\n",
    "# print(soup.prettify())\n",
    "# html_tag = soup.find(\"html\")\n",
    "# print(html_tag)\n"
   ]
  },
  {
   "cell_type": "code",
   "execution_count": null,
   "metadata": {},
   "outputs": [],
   "source": []
  },
  {
   "cell_type": "code",
   "execution_count": null,
   "metadata": {},
   "outputs": [],
   "source": []
  },
  {
   "cell_type": "code",
   "execution_count": null,
   "metadata": {},
   "outputs": [],
   "source": []
  }
 ],
 "metadata": {
  "kernelspec": {
   "display_name": "Python 3.11.0 ('.venv': venv)",
   "language": "python",
   "name": "python3"
  },
  "language_info": {
   "codemirror_mode": {
    "name": "ipython",
    "version": 3
   },
   "file_extension": ".py",
   "mimetype": "text/x-python",
   "name": "python",
   "nbconvert_exporter": "python",
   "pygments_lexer": "ipython3",
   "version": "3.11.0"
  },
  "orig_nbformat": 4,
  "vscode": {
   "interpreter": {
    "hash": "284447d49d538cae2d55e04c11cc799e05a9038816fc83428e611a8d5af9313e"
   }
  }
 },
 "nbformat": 4,
 "nbformat_minor": 2
}
